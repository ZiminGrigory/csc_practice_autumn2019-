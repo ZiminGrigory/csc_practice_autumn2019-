{
 "cells": [
  {
   "cell_type": "code",
   "execution_count": 149,
   "metadata": {},
   "outputs": [],
   "source": [
    "#!/usr/bin/env python3\n",
    "# coding: utf-8\n",
    "import os\n",
    "import csv\n",
    "import sklearn\n",
    "from sklearn.ensemble import RandomForestClassifier\n",
    "import numpy as np\n",
    "import pandas as pd\n",
    "from functools import reduce\n",
    "from sklearn.model_selection import train_test_split"
   ]
  },
  {
   "cell_type": "code",
   "execution_count": 104,
   "metadata": {},
   "outputs": [],
   "source": [
    "data1 = pd.read_csv('eyesClose.csv',header=None)\n",
    "data2 = pd.read_csv('eyesOpen.csv',header=None)"
   ]
  },
  {
   "cell_type": "code",
   "execution_count": 105,
   "metadata": {},
   "outputs": [],
   "source": [
    "data1['y'] = 0\n",
    "data2['y'] = 1"
   ]
  },
  {
   "cell_type": "code",
   "execution_count": 106,
   "metadata": {},
   "outputs": [],
   "source": [
    "data = pd.concat([data1,data2])"
   ]
  },
  {
   "cell_type": "code",
   "execution_count": 107,
   "metadata": {},
   "outputs": [],
   "source": [
    "def distance(p1x,p1y,p2x,p2y):\n",
    "    return (p2x-p1x)**2 + (p2y-p1y)**2"
   ]
  },
  {
   "cell_type": "code",
   "execution_count": 108,
   "metadata": {},
   "outputs": [],
   "source": [
    "distanceData = pd.DataFrame()\n",
    "distanceData['y'] = data['y']\n",
    "distanceData['d0'] = distance(data[0],data[1],data[10],data[11])\n",
    "distanceData['d1'] = distance(data[0],data[1],data[2],data[3])\n",
    "distanceData['d2'] = distance(data[2],data[3],data[4],data[5])\n",
    "distanceData['d3'] = distance(data[4],data[5],data[6],data[7])\n",
    "distanceData['d4'] = distance(data[6],data[7],data[8],data[9])\n",
    "distanceData['d5'] = distance(data[8],data[9],data[10],data[11])\n",
    "distanceData['d6'] = distance(data[2],data[3],data[10],data[11])\n",
    "distanceData['d7'] = distance(data[4],data[5],data[8],data[9])\n",
    "distanceData['d8'] = distance(data[0],data[1],data[6],data[7])\n",
    "\n",
    "distanceData['d0_1'] = distance(data[0+12],data[1+12],data[10+12],data[11+12])\n",
    "distanceData['d1_1'] = distance(data[0+12],data[1+12],data[2+12],data[3+12])\n",
    "distanceData['d2_1'] = distance(data[2+12],data[3+12],data[4+12],data[5+12])\n",
    "distanceData['d3_1'] = distance(data[4+12],data[5+12],data[6+12],data[7+12])\n",
    "distanceData['d4_1'] = distance(data[6+12],data[7+12],data[8+12],data[9+12])\n",
    "distanceData['d5_1'] = distance(data[8+12],data[9+12],data[10+12],data[11+12])\n",
    "distanceData['d6_1'] = distance(data[2+12],data[3+12],data[10+12],data[11+12])\n",
    "distanceData['d7_1'] = distance(data[4+12],data[5+12],data[8+12],data[9+12])\n",
    "distanceData['d8_1'] = distance(data[0+12],data[1+12],data[6+12],data[7+12])\n"
   ]
  },
  {
   "cell_type": "code",
   "execution_count": 109,
   "metadata": {},
   "outputs": [
    {
     "data": {
      "text/html": [
       "<div>\n",
       "<style scoped>\n",
       "    .dataframe tbody tr th:only-of-type {\n",
       "        vertical-align: middle;\n",
       "    }\n",
       "\n",
       "    .dataframe tbody tr th {\n",
       "        vertical-align: top;\n",
       "    }\n",
       "\n",
       "    .dataframe thead th {\n",
       "        text-align: right;\n",
       "    }\n",
       "</style>\n",
       "<table border=\"1\" class=\"dataframe\">\n",
       "  <thead>\n",
       "    <tr style=\"text-align: right;\">\n",
       "      <th></th>\n",
       "      <th>y</th>\n",
       "      <th>d0</th>\n",
       "      <th>d1</th>\n",
       "      <th>d2</th>\n",
       "      <th>d3</th>\n",
       "      <th>d4</th>\n",
       "      <th>d5</th>\n",
       "      <th>d6</th>\n",
       "      <th>d7</th>\n",
       "      <th>d8</th>\n",
       "      <th>d0_1</th>\n",
       "      <th>d1_1</th>\n",
       "      <th>d2_1</th>\n",
       "      <th>d3_1</th>\n",
       "      <th>d4_1</th>\n",
       "      <th>d5_1</th>\n",
       "      <th>d6_1</th>\n",
       "      <th>d7_1</th>\n",
       "      <th>d8_1</th>\n",
       "    </tr>\n",
       "  </thead>\n",
       "  <tbody>\n",
       "    <tr>\n",
       "      <th>0</th>\n",
       "      <td>0</td>\n",
       "      <td>12.324641</td>\n",
       "      <td>9.785758</td>\n",
       "      <td>17.092707</td>\n",
       "      <td>25.213488</td>\n",
       "      <td>20.841498</td>\n",
       "      <td>17.607735</td>\n",
       "      <td>2.310971</td>\n",
       "      <td>2.570773</td>\n",
       "      <td>146.963334</td>\n",
       "      <td>23.537013</td>\n",
       "      <td>22.614329</td>\n",
       "      <td>22.788879</td>\n",
       "      <td>29.926161</td>\n",
       "      <td>28.711934</td>\n",
       "      <td>23.529175</td>\n",
       "      <td>2.437283</td>\n",
       "      <td>2.124413</td>\n",
       "      <td>221.985018</td>\n",
       "    </tr>\n",
       "    <tr>\n",
       "      <th>1</th>\n",
       "      <td>0</td>\n",
       "      <td>16.197373</td>\n",
       "      <td>11.782642</td>\n",
       "      <td>17.592918</td>\n",
       "      <td>25.751434</td>\n",
       "      <td>19.964684</td>\n",
       "      <td>18.370951</td>\n",
       "      <td>1.542461</td>\n",
       "      <td>1.683628</td>\n",
       "      <td>159.905142</td>\n",
       "      <td>27.112175</td>\n",
       "      <td>24.830303</td>\n",
       "      <td>23.682798</td>\n",
       "      <td>27.839759</td>\n",
       "      <td>26.352289</td>\n",
       "      <td>23.870057</td>\n",
       "      <td>1.261470</td>\n",
       "      <td>0.992560</td>\n",
       "      <td>227.941520</td>\n",
       "    </tr>\n",
       "  </tbody>\n",
       "</table>\n",
       "</div>"
      ],
      "text/plain": [
       "   y         d0         d1         d2         d3         d4         d5  \\\n",
       "0  0  12.324641   9.785758  17.092707  25.213488  20.841498  17.607735   \n",
       "1  0  16.197373  11.782642  17.592918  25.751434  19.964684  18.370951   \n",
       "\n",
       "         d6        d7          d8       d0_1       d1_1       d2_1       d3_1  \\\n",
       "0  2.310971  2.570773  146.963334  23.537013  22.614329  22.788879  29.926161   \n",
       "1  1.542461  1.683628  159.905142  27.112175  24.830303  23.682798  27.839759   \n",
       "\n",
       "        d4_1       d5_1      d6_1      d7_1        d8_1  \n",
       "0  28.711934  23.529175  2.437283  2.124413  221.985018  \n",
       "1  26.352289  23.870057  1.261470  0.992560  227.941520  "
      ]
     },
     "execution_count": 109,
     "metadata": {},
     "output_type": "execute_result"
    }
   ],
   "source": [
    "distanceData[:2]"
   ]
  },
  {
   "cell_type": "code",
   "execution_count": 112,
   "metadata": {},
   "outputs": [],
   "source": [
    "distanceData_y = distanceData['y']\n",
    "distanceData=distanceData.drop(['y'],1)"
   ]
  },
  {
   "cell_type": "code",
   "execution_count": 114,
   "metadata": {},
   "outputs": [],
   "source": [
    "x_train, x_test, y_train, y_test = train_test_split(distanceData, distanceData_y,\n",
    "                                                    test_size=0.33,\n",
    "                                                    random_state=0,\n",
    "                                                    stratify=distanceData_y)\n"
   ]
  },
  {
   "cell_type": "code",
   "execution_count": 174,
   "metadata": {},
   "outputs": [],
   "source": [
    "clf = RandomForestClassifier(n_estimators=100, random_state=0)"
   ]
  },
  {
   "cell_type": "code",
   "execution_count": 204,
   "metadata": {},
   "outputs": [],
   "source": [
    "chosenFeat = ['d6', 'd7','d6_1', 'd7_1']"
   ]
  },
  {
   "cell_type": "code",
   "execution_count": 205,
   "metadata": {},
   "outputs": [
    {
     "data": {
      "text/plain": [
       "RandomForestClassifier(bootstrap=True, class_weight=None, criterion='gini',\n",
       "                       max_depth=None, max_features='auto', max_leaf_nodes=None,\n",
       "                       min_impurity_decrease=0.0, min_impurity_split=None,\n",
       "                       min_samples_leaf=1, min_samples_split=2,\n",
       "                       min_weight_fraction_leaf=0.0, n_estimators=100,\n",
       "                       n_jobs=None, oob_score=False, random_state=0, verbose=0,\n",
       "                       warm_start=False)"
      ]
     },
     "execution_count": 205,
     "metadata": {},
     "output_type": "execute_result"
    }
   ],
   "source": [
    "clf.fit(x_train[chosenFeat], y_train)"
   ]
  },
  {
   "cell_type": "code",
   "execution_count": 206,
   "metadata": {},
   "outputs": [
    {
     "name": "stdout",
     "output_type": "stream",
     "text": [
      "[0.27570077 0.19151859 0.29026319 0.24251745]\n"
     ]
    }
   ],
   "source": [
    "print(clf.feature_importances_)"
   ]
  },
  {
   "cell_type": "code",
   "execution_count": 207,
   "metadata": {},
   "outputs": [],
   "source": [
    "fl = list(zip(chosenFeat, clf.feature_importances_))"
   ]
  },
  {
   "cell_type": "code",
   "execution_count": 208,
   "metadata": {},
   "outputs": [
    {
     "data": {
      "text/plain": [
       "[('d6_1', 0.29026319438485965),\n",
       " ('d6', 0.2757007653071788),\n",
       " ('d7_1', 0.2425174479294267),\n",
       " ('d7', 0.19151859237853483)]"
      ]
     },
     "execution_count": 208,
     "metadata": {},
     "output_type": "execute_result"
    }
   ],
   "source": [
    "fl2 = sorted(fl, key=lambda x: x[1],reverse=True)\n",
    "fl2 = list(filter(lambda x: x[1] > 0.1,fl2))\n",
    "fl2"
   ]
  },
  {
   "cell_type": "code",
   "execution_count": 209,
   "metadata": {},
   "outputs": [],
   "source": [
    "pred = clf.predict(x_test[chosenFeat])"
   ]
  },
  {
   "cell_type": "code",
   "execution_count": 210,
   "metadata": {},
   "outputs": [
    {
     "data": {
      "text/plain": [
       "0.9878787878787879"
      ]
     },
     "execution_count": 210,
     "metadata": {},
     "output_type": "execute_result"
    }
   ],
   "source": [
    "sklearn.metrics.accuracy_score(y_test,pred)"
   ]
  },
  {
   "cell_type": "code",
   "execution_count": 212,
   "metadata": {},
   "outputs": [],
   "source": [
    "classifier = clf.fit(distanceData[chosenFeat], distanceData_y)"
   ]
  },
  {
   "cell_type": "code",
   "execution_count": 214,
   "metadata": {},
   "outputs": [],
   "source": [
    "import pickle\n",
    "with open('my_dumped_classifier.pkl', 'wb') as fid:\n",
    "    pickle.dump(classifier, fid)\n",
    "\n",
    "# with open('my_dumped_classifier.pkl', 'rb') as fid:\n",
    "#     gnb_loaded = pickle.load(fid)"
   ]
  },
  {
   "cell_type": "code",
   "execution_count": null,
   "metadata": {},
   "outputs": [],
   "source": []
  }
 ],
 "metadata": {
  "kernelspec": {
   "display_name": "Python 3",
   "language": "python",
   "name": "python3"
  },
  "language_info": {
   "codemirror_mode": {
    "name": "ipython",
    "version": 3
   },
   "file_extension": ".py",
   "mimetype": "text/x-python",
   "name": "python",
   "nbconvert_exporter": "python",
   "pygments_lexer": "ipython3",
   "version": "3.6.8"
  }
 },
 "nbformat": 4,
 "nbformat_minor": 2
}
