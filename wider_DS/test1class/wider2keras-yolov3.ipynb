{
 "cells": [
  {
   "cell_type": "code",
   "execution_count": 1,
   "metadata": {},
   "outputs": [],
   "source": [
    "import cv2"
   ]
  },
  {
   "cell_type": "code",
   "execution_count": 2,
   "metadata": {},
   "outputs": [],
   "source": [
    "annFormat = '<annotation verified=\"yes\">\\n\\\n",
    "    <folder>face</folder>\\n\\\n",
    "    <filename>{0}</filename>\\n\\\n",
    "    <path>{1}</path>\\n\\\n",
    "    <source>\\n\\\n",
    "        <database>Unknown</database>\\n\\\n",
    "    </source>\\n\\\n",
    "    <size>\\n\\\n",
    "        <width>{2}</width>\\n\\\n",
    "        <height>{3}</height>\\n\\\n",
    "        <depth>3</depth>\\n\\\n",
    "    </size>\\n\\\n",
    "    <segmented>0</segmented>\\n\\\n",
    "{4}\\\n",
    "</annotation>'\n",
    "boxFormat = '\\\n",
    "    <object>\\n\\\n",
    "        <name>face</name>\\n\\\n",
    "        <pose>Unspecified</pose>\\n\\\n",
    "        <truncated>0</truncated>\\n\\\n",
    "        <difficult>0</difficult>\\n\\\n",
    "        <bndbox>\\n\\\n",
    "            <xmin>{0}</xmin>\\n\\\n",
    "            <ymin>{1}</ymin>\\n\\\n",
    "            <xmax>{2}</xmax>\\n\\\n",
    "            <ymax>{3}</ymax>\\n\\\n",
    "        </bndbox>\\n\\\n",
    "    </object>\\n'"
   ]
  },
  {
   "cell_type": "code",
   "execution_count": 46,
   "metadata": {},
   "outputs": [],
   "source": [
    "#9_Press_Conference\n",
    "dummyPath= \"/home/greg/dev/csc_practice_autumn2019/wider_DS/test1class/\"\n",
    "annsFile = open('anns.txt')\n",
    "\n",
    "while True:\n",
    "    line = annsFile.readline()\n",
    "    if not line:\n",
    "        break\n",
    "    folder, filename = line[:-1].split('/')\n",
    "    boxes = int (annsFile.readline()[:-1])\n",
    "    boxesXml = ''\n",
    "    for b in range(boxes):\n",
    "        x,y,w,h = map(lambda s: int(s), annsFile.readline().split(' ')[:4]) \n",
    "        x1,y1,x2,y2 = x,y,x+w,y+h\n",
    "        boxesXml += boxFormat.format(x1,y1,x2,y2)\n",
    "    fullPath = dummyPath + folder + '/' + filename\n",
    "    tmp = cv2.imread(fullPath)\n",
    "    annot = annFormat.format(filename, fullPath, tmp.shape[1], tmp.shape[0], boxesXml)\n",
    "    with open('anns/'+filename[:-3]+'xml', 'w') as annotFile:\n",
    "        annotFile.write(annot)\n",
    "\n",
    "annsFile.close()"
   ]
  },
  {
   "cell_type": "code",
   "execution_count": 4,
   "metadata": {},
   "outputs": [],
   "source": [
    "#press_conf\n",
    "#couples\n",
    "#interview\n",
    "#waiter_waitress\n",
    "#dresses\n",
    "#remember there is no need to check images... only anns.txt file which is made by copy-pasting required images\n",
    "\n",
    "\n",
    "dummyPath= \"/home/greg/dev/csc_practice_autumn2019/wider_DS/testSeveralClasses/\"\n",
    "annsFile = open('../testSeveralClasses/anns.txt')\n",
    "\n",
    "while True:\n",
    "    line = annsFile.readline()\n",
    "    if not line:\n",
    "        break\n",
    "    folder, filename = line[:-1].split('/')\n",
    "    boxes = int (annsFile.readline()[:-1])\n",
    "    boxesXml = ''\n",
    "    for b in range(boxes):\n",
    "        x,y,w,h = map(lambda s: int(s), annsFile.readline().split(' ')[:4]) \n",
    "        x1,y1,x2,y2 = x,y,x+w,y+h\n",
    "        boxesXml += boxFormat.format(x1,y1,x2,y2)\n",
    "    fullPath = dummyPath + folder + '/' + filename\n",
    "    tmp = cv2.imread(fullPath)\n",
    "    annot = annFormat.format(filename, fullPath, tmp.shape[1], tmp.shape[0], boxesXml)\n",
    "    with open('../testSeveralClasses/anns/'+filename[:-3]+'xml', 'w') as annotFile:\n",
    "        annotFile.write(annot)\n",
    "\n",
    "annsFile.close()"
   ]
  },
  {
   "cell_type": "code",
   "execution_count": null,
   "metadata": {},
   "outputs": [],
   "source": []
  }
 ],
 "metadata": {
  "kernelspec": {
   "display_name": "Python 3",
   "language": "python",
   "name": "python3"
  },
  "language_info": {
   "codemirror_mode": {
    "name": "ipython",
    "version": 3
   },
   "file_extension": ".py",
   "mimetype": "text/x-python",
   "name": "python",
   "nbconvert_exporter": "python",
   "pygments_lexer": "ipython3",
   "version": "3.6.8"
  }
 },
 "nbformat": 4,
 "nbformat_minor": 2
}
